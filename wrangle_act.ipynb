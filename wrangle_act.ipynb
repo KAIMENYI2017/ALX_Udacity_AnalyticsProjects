{
 "cells": [
  {
   "cell_type": "code",
   "execution_count": 4,
   "id": "5ed059d6",
   "metadata": {},
   "outputs": [],
   "source": [
    "import pandas as pd\n",
    "import numpy as np\n",
    "from scipy.stats import pearsonr\n",
    "import matplotlib.pyplot as plt"
   ]
  },
  {
   "cell_type": "code",
   "execution_count": 5,
   "id": "3eb3de5d",
   "metadata": {},
   "outputs": [
    {
     "name": "stdout",
     "output_type": "stream",
     "text": [
      "entries in archive data 2356\n",
      "entries in gathered data 2322\n",
      "entries in tweet images data 2075\n"
     ]
    }
   ],
   "source": [
    "archive=pd.read_csv('twitter-archive-enhanced.csv')\n",
    "tweets=pd.read_csv('tweets_data.csv')\n",
    "images=pd.read_csv('https://d17h27t6h515a5.cloudfront.net/topher/2017/August/599fd2ad_image-predictions/image-predictions.tsv',delimiter='\\t')\n",
    "print(f'entries in archive data {archive.shape[0]}')\n",
    "print(f'entries in gathered data {tweets.shape[0]}')\n",
    "print(f'entries in tweet images data {images.shape[0]}')\n"
   ]
  },
  {
   "cell_type": "code",
   "execution_count": 6,
   "id": "caa352df",
   "metadata": {},
   "outputs": [
    {
     "data": {
      "text/html": [
       "<div>\n",
       "<style scoped>\n",
       "    .dataframe tbody tr th:only-of-type {\n",
       "        vertical-align: middle;\n",
       "    }\n",
       "\n",
       "    .dataframe tbody tr th {\n",
       "        vertical-align: top;\n",
       "    }\n",
       "\n",
       "    .dataframe thead th {\n",
       "        text-align: right;\n",
       "    }\n",
       "</style>\n",
       "<table border=\"1\" class=\"dataframe\">\n",
       "  <thead>\n",
       "    <tr style=\"text-align: right;\">\n",
       "      <th></th>\n",
       "      <th>tweet_id</th>\n",
       "      <th>in_reply_to_status_id</th>\n",
       "      <th>in_reply_to_user_id</th>\n",
       "      <th>timestamp</th>\n",
       "      <th>source</th>\n",
       "      <th>text</th>\n",
       "      <th>retweeted_status_id</th>\n",
       "      <th>retweeted_status_user_id</th>\n",
       "      <th>retweeted_status_timestamp</th>\n",
       "      <th>expanded_urls</th>\n",
       "      <th>rating_numerator</th>\n",
       "      <th>rating_denominator</th>\n",
       "      <th>name</th>\n",
       "      <th>doggo</th>\n",
       "      <th>floofer</th>\n",
       "      <th>pupper</th>\n",
       "      <th>puppo</th>\n",
       "    </tr>\n",
       "  </thead>\n",
       "  <tbody>\n",
       "    <tr>\n",
       "      <th>1462</th>\n",
       "      <td>694905863685980160</td>\n",
       "      <td>NaN</td>\n",
       "      <td>NaN</td>\n",
       "      <td>2016-02-03 15:30:43 +0000</td>\n",
       "      <td>&lt;a href=\"http://twitter.com/download/iphone\" r...</td>\n",
       "      <td>This is Archie. He's a Bisquick Taj Mapaw. Too...</td>\n",
       "      <td>NaN</td>\n",
       "      <td>NaN</td>\n",
       "      <td>NaN</td>\n",
       "      <td>https://twitter.com/dog_rates/status/694905863...</td>\n",
       "      <td>10</td>\n",
       "      <td>10</td>\n",
       "      <td>Archie</td>\n",
       "      <td>None</td>\n",
       "      <td>None</td>\n",
       "      <td>None</td>\n",
       "      <td>None</td>\n",
       "    </tr>\n",
       "    <tr>\n",
       "      <th>1360</th>\n",
       "      <td>703268521220972544</td>\n",
       "      <td>NaN</td>\n",
       "      <td>NaN</td>\n",
       "      <td>2016-02-26 17:20:56 +0000</td>\n",
       "      <td>&lt;a href=\"http://twitter.com/download/iphone\" r...</td>\n",
       "      <td>Happy Friday here's a sleepy pupper 12/10 http...</td>\n",
       "      <td>NaN</td>\n",
       "      <td>NaN</td>\n",
       "      <td>NaN</td>\n",
       "      <td>https://twitter.com/dog_rates/status/703268521...</td>\n",
       "      <td>12</td>\n",
       "      <td>10</td>\n",
       "      <td>None</td>\n",
       "      <td>None</td>\n",
       "      <td>None</td>\n",
       "      <td>pupper</td>\n",
       "      <td>None</td>\n",
       "    </tr>\n",
       "    <tr>\n",
       "      <th>2125</th>\n",
       "      <td>670361874861563904</td>\n",
       "      <td>NaN</td>\n",
       "      <td>NaN</td>\n",
       "      <td>2015-11-27 22:01:40 +0000</td>\n",
       "      <td>&lt;a href=\"http://twitter.com/download/iphone\" r...</td>\n",
       "      <td>This is a Rich Mahogany Seltzer named Cherokee...</td>\n",
       "      <td>NaN</td>\n",
       "      <td>NaN</td>\n",
       "      <td>NaN</td>\n",
       "      <td>https://twitter.com/dog_rates/status/670361874...</td>\n",
       "      <td>9</td>\n",
       "      <td>10</td>\n",
       "      <td>a</td>\n",
       "      <td>None</td>\n",
       "      <td>None</td>\n",
       "      <td>None</td>\n",
       "      <td>None</td>\n",
       "    </tr>\n",
       "    <tr>\n",
       "      <th>42</th>\n",
       "      <td>884247878851493888</td>\n",
       "      <td>NaN</td>\n",
       "      <td>NaN</td>\n",
       "      <td>2017-07-10 03:08:17 +0000</td>\n",
       "      <td>&lt;a href=\"http://twitter.com/download/iphone\" r...</td>\n",
       "      <td>OMG HE DIDN'T MEAN TO HE WAS JUST TRYING A LIT...</td>\n",
       "      <td>NaN</td>\n",
       "      <td>NaN</td>\n",
       "      <td>NaN</td>\n",
       "      <td>https://twitter.com/kaijohnson_19/status/88396...</td>\n",
       "      <td>13</td>\n",
       "      <td>10</td>\n",
       "      <td>None</td>\n",
       "      <td>None</td>\n",
       "      <td>None</td>\n",
       "      <td>None</td>\n",
       "      <td>None</td>\n",
       "    </tr>\n",
       "    <tr>\n",
       "      <th>67</th>\n",
       "      <td>879376492567855104</td>\n",
       "      <td>NaN</td>\n",
       "      <td>NaN</td>\n",
       "      <td>2017-06-26 16:31:08 +0000</td>\n",
       "      <td>&lt;a href=\"http://twitter.com/download/iphone\" r...</td>\n",
       "      <td>This is Jack AKA Stephen Furry. You're not sco...</td>\n",
       "      <td>NaN</td>\n",
       "      <td>NaN</td>\n",
       "      <td>NaN</td>\n",
       "      <td>https://twitter.com/dog_rates/status/879376492...</td>\n",
       "      <td>12</td>\n",
       "      <td>10</td>\n",
       "      <td>Jack</td>\n",
       "      <td>None</td>\n",
       "      <td>None</td>\n",
       "      <td>None</td>\n",
       "      <td>None</td>\n",
       "    </tr>\n",
       "  </tbody>\n",
       "</table>\n",
       "</div>"
      ],
      "text/plain": [
       "                tweet_id  in_reply_to_status_id  in_reply_to_user_id  \\\n",
       "1462  694905863685980160                    NaN                  NaN   \n",
       "1360  703268521220972544                    NaN                  NaN   \n",
       "2125  670361874861563904                    NaN                  NaN   \n",
       "42    884247878851493888                    NaN                  NaN   \n",
       "67    879376492567855104                    NaN                  NaN   \n",
       "\n",
       "                      timestamp  \\\n",
       "1462  2016-02-03 15:30:43 +0000   \n",
       "1360  2016-02-26 17:20:56 +0000   \n",
       "2125  2015-11-27 22:01:40 +0000   \n",
       "42    2017-07-10 03:08:17 +0000   \n",
       "67    2017-06-26 16:31:08 +0000   \n",
       "\n",
       "                                                 source  \\\n",
       "1462  <a href=\"http://twitter.com/download/iphone\" r...   \n",
       "1360  <a href=\"http://twitter.com/download/iphone\" r...   \n",
       "2125  <a href=\"http://twitter.com/download/iphone\" r...   \n",
       "42    <a href=\"http://twitter.com/download/iphone\" r...   \n",
       "67    <a href=\"http://twitter.com/download/iphone\" r...   \n",
       "\n",
       "                                                   text  retweeted_status_id  \\\n",
       "1462  This is Archie. He's a Bisquick Taj Mapaw. Too...                  NaN   \n",
       "1360  Happy Friday here's a sleepy pupper 12/10 http...                  NaN   \n",
       "2125  This is a Rich Mahogany Seltzer named Cherokee...                  NaN   \n",
       "42    OMG HE DIDN'T MEAN TO HE WAS JUST TRYING A LIT...                  NaN   \n",
       "67    This is Jack AKA Stephen Furry. You're not sco...                  NaN   \n",
       "\n",
       "      retweeted_status_user_id retweeted_status_timestamp  \\\n",
       "1462                       NaN                        NaN   \n",
       "1360                       NaN                        NaN   \n",
       "2125                       NaN                        NaN   \n",
       "42                         NaN                        NaN   \n",
       "67                         NaN                        NaN   \n",
       "\n",
       "                                          expanded_urls  rating_numerator  \\\n",
       "1462  https://twitter.com/dog_rates/status/694905863...                10   \n",
       "1360  https://twitter.com/dog_rates/status/703268521...                12   \n",
       "2125  https://twitter.com/dog_rates/status/670361874...                 9   \n",
       "42    https://twitter.com/kaijohnson_19/status/88396...                13   \n",
       "67    https://twitter.com/dog_rates/status/879376492...                12   \n",
       "\n",
       "      rating_denominator    name doggo floofer  pupper puppo  \n",
       "1462                  10  Archie  None    None    None  None  \n",
       "1360                  10    None  None    None  pupper  None  \n",
       "2125                  10       a  None    None    None  None  \n",
       "42                    10    None  None    None    None  None  \n",
       "67                    10    Jack  None    None    None  None  "
      ]
     },
     "execution_count": 6,
     "metadata": {},
     "output_type": "execute_result"
    }
   ],
   "source": [
    "archive.sample(5)"
   ]
  },
  {
   "cell_type": "code",
   "execution_count": 9,
   "id": "3e7cdef4",
   "metadata": {},
   "outputs": [
    {
     "data": {
      "text/plain": [
       "None     2259\n",
       "doggo      97\n",
       "Name: doggo, dtype: int64"
      ]
     },
     "execution_count": 9,
     "metadata": {},
     "output_type": "execute_result"
    }
   ],
   "source": [
    "archive.doggo.value_counts()"
   ]
  },
  {
   "cell_type": "code",
   "execution_count": 10,
   "id": "02ef20e3",
   "metadata": {},
   "outputs": [
    {
     "data": {
      "text/plain": [
       "None       2346\n",
       "floofer      10\n",
       "Name: floofer, dtype: int64"
      ]
     },
     "execution_count": 10,
     "metadata": {},
     "output_type": "execute_result"
    }
   ],
   "source": [
    "archive.floofer.value_counts()"
   ]
  },
  {
   "cell_type": "code",
   "execution_count": 11,
   "id": "f4b9fda9",
   "metadata": {},
   "outputs": [
    {
     "data": {
      "text/plain": [
       "None      2099\n",
       "pupper     257\n",
       "Name: pupper, dtype: int64"
      ]
     },
     "execution_count": 11,
     "metadata": {},
     "output_type": "execute_result"
    }
   ],
   "source": [
    "archive.pupper.value_counts()"
   ]
  },
  {
   "cell_type": "code",
   "execution_count": 12,
   "id": "293f81f6",
   "metadata": {},
   "outputs": [
    {
     "data": {
      "text/plain": [
       "None     2326\n",
       "puppo      30\n",
       "Name: puppo, dtype: int64"
      ]
     },
     "execution_count": 12,
     "metadata": {},
     "output_type": "execute_result"
    }
   ],
   "source": [
    "archive.puppo.value_counts()"
   ]
  },
  {
   "cell_type": "code",
   "execution_count": 13,
   "id": "759b3432",
   "metadata": {},
   "outputs": [
    {
     "data": {
      "text/html": [
       "<div>\n",
       "<style scoped>\n",
       "    .dataframe tbody tr th:only-of-type {\n",
       "        vertical-align: middle;\n",
       "    }\n",
       "\n",
       "    .dataframe tbody tr th {\n",
       "        vertical-align: top;\n",
       "    }\n",
       "\n",
       "    .dataframe thead th {\n",
       "        text-align: right;\n",
       "    }\n",
       "</style>\n",
       "<table border=\"1\" class=\"dataframe\">\n",
       "  <thead>\n",
       "    <tr style=\"text-align: right;\">\n",
       "      <th></th>\n",
       "      <th>rating_numerator</th>\n",
       "      <th>rating_denominator</th>\n",
       "    </tr>\n",
       "  </thead>\n",
       "  <tbody>\n",
       "    <tr>\n",
       "      <th>count</th>\n",
       "      <td>2356.000000</td>\n",
       "      <td>2356.000000</td>\n",
       "    </tr>\n",
       "    <tr>\n",
       "      <th>mean</th>\n",
       "      <td>13.126486</td>\n",
       "      <td>10.455433</td>\n",
       "    </tr>\n",
       "    <tr>\n",
       "      <th>std</th>\n",
       "      <td>45.876648</td>\n",
       "      <td>6.745237</td>\n",
       "    </tr>\n",
       "    <tr>\n",
       "      <th>min</th>\n",
       "      <td>0.000000</td>\n",
       "      <td>0.000000</td>\n",
       "    </tr>\n",
       "    <tr>\n",
       "      <th>25%</th>\n",
       "      <td>10.000000</td>\n",
       "      <td>10.000000</td>\n",
       "    </tr>\n",
       "    <tr>\n",
       "      <th>50%</th>\n",
       "      <td>11.000000</td>\n",
       "      <td>10.000000</td>\n",
       "    </tr>\n",
       "    <tr>\n",
       "      <th>75%</th>\n",
       "      <td>12.000000</td>\n",
       "      <td>10.000000</td>\n",
       "    </tr>\n",
       "    <tr>\n",
       "      <th>max</th>\n",
       "      <td>1776.000000</td>\n",
       "      <td>170.000000</td>\n",
       "    </tr>\n",
       "  </tbody>\n",
       "</table>\n",
       "</div>"
      ],
      "text/plain": [
       "       rating_numerator  rating_denominator\n",
       "count       2356.000000         2356.000000\n",
       "mean          13.126486           10.455433\n",
       "std           45.876648            6.745237\n",
       "min            0.000000            0.000000\n",
       "25%           10.000000           10.000000\n",
       "50%           11.000000           10.000000\n",
       "75%           12.000000           10.000000\n",
       "max         1776.000000          170.000000"
      ]
     },
     "execution_count": 13,
     "metadata": {},
     "output_type": "execute_result"
    }
   ],
   "source": [
    "archive[['rating_numerator','rating_denominator']].describe()"
   ]
  },
  {
   "cell_type": "code",
   "execution_count": 14,
   "id": "7f83885a",
   "metadata": {},
   "outputs": [
    {
     "name": "stdout",
     "output_type": "stream",
     "text": [
      "missing values in images dataset tweet_id    0\n",
      "jpg_url     0\n",
      "img_num     0\n",
      "p1          0\n",
      "p1_conf     0\n",
      "p1_dog      0\n",
      "p2          0\n",
      "p2_conf     0\n",
      "p2_dog      0\n",
      "p3          0\n",
      "p3_conf     0\n",
      "p3_dog      0\n",
      "dtype: int64\n",
      "duplicate records in images dataset 0\n"
     ]
    }
   ],
   "source": [
    "print(f'missing values in images dataset {images.isna().sum()}')\n",
    "\n",
    "print(f'duplicate records in images dataset {images.duplicated().sum()}')"
   ]
  },
  {
   "cell_type": "code",
   "execution_count": 15,
   "id": "713a5e5a",
   "metadata": {},
   "outputs": [
    {
     "name": "stdout",
     "output_type": "stream",
     "text": [
      "<class 'pandas.core.frame.DataFrame'>\n",
      "RangeIndex: 2356 entries, 0 to 2355\n",
      "Data columns (total 17 columns):\n",
      " #   Column                      Non-Null Count  Dtype  \n",
      "---  ------                      --------------  -----  \n",
      " 0   tweet_id                    2356 non-null   int64  \n",
      " 1   in_reply_to_status_id       78 non-null     float64\n",
      " 2   in_reply_to_user_id         78 non-null     float64\n",
      " 3   timestamp                   2356 non-null   object \n",
      " 4   source                      2356 non-null   object \n",
      " 5   text                        2356 non-null   object \n",
      " 6   retweeted_status_id         181 non-null    float64\n",
      " 7   retweeted_status_user_id    181 non-null    float64\n",
      " 8   retweeted_status_timestamp  181 non-null    object \n",
      " 9   expanded_urls               2297 non-null   object \n",
      " 10  rating_numerator            2356 non-null   int64  \n",
      " 11  rating_denominator          2356 non-null   int64  \n",
      " 12  name                        2356 non-null   object \n",
      " 13  doggo                       2356 non-null   object \n",
      " 14  floofer                     2356 non-null   object \n",
      " 15  pupper                      2356 non-null   object \n",
      " 16  puppo                       2356 non-null   object \n",
      "dtypes: float64(4), int64(3), object(10)\n",
      "memory usage: 220.9+ KB\n"
     ]
    }
   ],
   "source": [
    "archive.info()"
   ]
  },
  {
   "cell_type": "code",
   "execution_count": 16,
   "id": "647d7a76",
   "metadata": {},
   "outputs": [
    {
     "data": {
      "text/plain": [
       "0"
      ]
     },
     "execution_count": 16,
     "metadata": {},
     "output_type": "execute_result"
    }
   ],
   "source": [
    "archive.duplicated().sum()"
   ]
  },
  {
   "cell_type": "code",
   "execution_count": 17,
   "id": "a60448df",
   "metadata": {},
   "outputs": [
    {
     "name": "stdout",
     "output_type": "stream",
     "text": [
      "<class 'pandas.core.frame.DataFrame'>\n",
      "RangeIndex: 2322 entries, 0 to 2321\n",
      "Data columns (total 3 columns):\n",
      " #   Column          Non-Null Count  Dtype\n",
      "---  ------          --------------  -----\n",
      " 0   tweet_id        2322 non-null   int64\n",
      " 1   favorite_count  2322 non-null   int64\n",
      " 2   retweet_count   2322 non-null   int64\n",
      "dtypes: int64(3)\n",
      "memory usage: 54.5 KB\n"
     ]
    }
   ],
   "source": [
    "tweets.info()"
   ]
  },
  {
   "cell_type": "markdown",
   "id": "27542170",
   "metadata": {},
   "source": [
    "## Data assessment\n",
    "\n",
    "### Tidiness\n",
    "1. doggo,floofer, pupper and puppo are in separate columns in archive dataset\n",
    "2. More than 1 expanded url in the same cell in archive dataset\n",
    "\n",
    "### Quality issues \n",
    "1. some dog name starting with small letter in archive dataset\n",
    "2. small and capital letters on predicated breed 1, 2,3 in images dataset\n",
    "3. Underscore in predicated breed 1,2,3 in images dataset \n",
    "4. Anchor tags on source links in archive dataset \n",
    "5. Values above and below 10 in rating_denominator in archive dataset\n",
    "6. Duplicated links on expanded urls >>archive dataset\n",
    "7. Irrelevant links(that do beleong to a tweet status) on expanded urls >> archive dataset \n",
    "8. timestamp in archive dataset is of object data type\n",
    "9. Pupper and puppo mean puppy\n",
    "10. Retweets in archive dataset "
   ]
  },
  {
   "cell_type": "markdown",
   "id": "211c1d89",
   "metadata": {},
   "source": [
    "## Data Cleaning \n",
    "\n"
   ]
  },
  {
   "cell_type": "code",
   "execution_count": 124,
   "id": "264b2ecc",
   "metadata": {},
   "outputs": [],
   "source": [
    "archive_clean=archive.copy()\n",
    "tweets_clean=tweets.copy()\n",
    "images_clean=images.copy()"
   ]
  },
  {
   "cell_type": "markdown",
   "id": "aa44413a",
   "metadata": {},
   "source": [
    "## Remove retweets from archive dataset\n",
    "\n",
    "### Define\n",
    "Drop rows with data on the in_reply_to_status_id"
   ]
  },
  {
   "cell_type": "code",
   "execution_count": 125,
   "id": "a0227433",
   "metadata": {},
   "outputs": [
    {
     "data": {
      "text/plain": [
       "(2278, 17)"
      ]
     },
     "execution_count": 125,
     "metadata": {},
     "output_type": "execute_result"
    }
   ],
   "source": [
    "archive_clean=archive_clean[archive_clean['in_reply_to_status_id'].isnull()]\n",
    "archive_clean.shape"
   ]
  },
  {
   "cell_type": "code",
   "execution_count": 128,
   "id": "fbf2dfa7",
   "metadata": {},
   "outputs": [
    {
     "data": {
      "text/plain": [
       "0"
      ]
     },
     "execution_count": 128,
     "metadata": {},
     "output_type": "execute_result"
    }
   ],
   "source": [
    "archive_clean['in_reply_to_status_id'].notnull().sum()"
   ]
  },
  {
   "cell_type": "markdown",
   "id": "11cb8872",
   "metadata": {},
   "source": [
    "### Dog name starting with small letter is not a dog name\n",
    "\n",
    "#### Define\n",
    "any dog name starting with small letter to be replaced with None "
   ]
  },
  {
   "cell_type": "code",
   "execution_count": 129,
   "id": "5b8d6d84",
   "metadata": {},
   "outputs": [],
   "source": [
    "#clean that\n",
    "archive_clean['name']=archive_clean['name'].apply(lambda x :x==\"None\" if (x[0].islower()) else x)"
   ]
  },
  {
   "cell_type": "code",
   "execution_count": 130,
   "id": "cc368a91",
   "metadata": {},
   "outputs": [
    {
     "data": {
      "text/plain": [
       "1045     Harold\n",
       "1862       None\n",
       "2176     Samsom\n",
       "766        None\n",
       "1106       None\n",
       "783     Maximus\n",
       "1304       None\n",
       "268        None\n",
       "642       Maude\n",
       "503         Tyr\n",
       "Name: name, dtype: object"
      ]
     },
     "execution_count": 130,
     "metadata": {},
     "output_type": "execute_result"
    }
   ],
   "source": [
    "#test \n",
    "archive_clean['name'].sample(10)"
   ]
  },
  {
   "cell_type": "markdown",
   "id": "7e8c1de5",
   "metadata": {},
   "source": [
    "### Some breed name start with small letter in p1, p2, p3, of the image dataset\n",
    "#### Define \n",
    "Capitalize every breed name"
   ]
  },
  {
   "cell_type": "code",
   "execution_count": 131,
   "id": "937c1532",
   "metadata": {},
   "outputs": [],
   "source": [
    "#code \n",
    "images_clean['p1']= images_clean['p1'].str.capitalize()\n",
    "images_clean['p2']= images_clean['p2'].str.capitalize()\n",
    "images_clean['p3']= images_clean['p3'].str.capitalize()"
   ]
  },
  {
   "cell_type": "code",
   "execution_count": 132,
   "id": "d3a8fa42",
   "metadata": {},
   "outputs": [
    {
     "data": {
      "text/html": [
       "<div>\n",
       "<style scoped>\n",
       "    .dataframe tbody tr th:only-of-type {\n",
       "        vertical-align: middle;\n",
       "    }\n",
       "\n",
       "    .dataframe tbody tr th {\n",
       "        vertical-align: top;\n",
       "    }\n",
       "\n",
       "    .dataframe thead th {\n",
       "        text-align: right;\n",
       "    }\n",
       "</style>\n",
       "<table border=\"1\" class=\"dataframe\">\n",
       "  <thead>\n",
       "    <tr style=\"text-align: right;\">\n",
       "      <th></th>\n",
       "      <th>p2</th>\n",
       "      <th>p2</th>\n",
       "      <th>p3</th>\n",
       "    </tr>\n",
       "  </thead>\n",
       "  <tbody>\n",
       "    <tr>\n",
       "      <th>1407</th>\n",
       "      <td>Labrador_retriever</td>\n",
       "      <td>Labrador_retriever</td>\n",
       "      <td>Kelpie</td>\n",
       "    </tr>\n",
       "    <tr>\n",
       "      <th>767</th>\n",
       "      <td>Chesapeake_bay_retriever</td>\n",
       "      <td>Chesapeake_bay_retriever</td>\n",
       "      <td>Doberman</td>\n",
       "    </tr>\n",
       "    <tr>\n",
       "      <th>1683</th>\n",
       "      <td>Great_dane</td>\n",
       "      <td>Great_dane</td>\n",
       "      <td>Curly-coated_retriever</td>\n",
       "    </tr>\n",
       "    <tr>\n",
       "      <th>227</th>\n",
       "      <td>English_setter</td>\n",
       "      <td>English_setter</td>\n",
       "      <td>Cocker_spaniel</td>\n",
       "    </tr>\n",
       "    <tr>\n",
       "      <th>775</th>\n",
       "      <td>Koala</td>\n",
       "      <td>Koala</td>\n",
       "      <td>Goose</td>\n",
       "    </tr>\n",
       "    <tr>\n",
       "      <th>1655</th>\n",
       "      <td>Eskimo_dog</td>\n",
       "      <td>Eskimo_dog</td>\n",
       "      <td>Tibetan_mastiff</td>\n",
       "    </tr>\n",
       "    <tr>\n",
       "      <th>787</th>\n",
       "      <td>Labrador_retriever</td>\n",
       "      <td>Labrador_retriever</td>\n",
       "      <td>Ice_bear</td>\n",
       "    </tr>\n",
       "    <tr>\n",
       "      <th>2038</th>\n",
       "      <td>Norwich_terrier</td>\n",
       "      <td>Norwich_terrier</td>\n",
       "      <td>Norfolk_terrier</td>\n",
       "    </tr>\n",
       "    <tr>\n",
       "      <th>923</th>\n",
       "      <td>French_bulldog</td>\n",
       "      <td>French_bulldog</td>\n",
       "      <td>American_staffordshire_terrier</td>\n",
       "    </tr>\n",
       "    <tr>\n",
       "      <th>388</th>\n",
       "      <td>Miniature_pinscher</td>\n",
       "      <td>Miniature_pinscher</td>\n",
       "      <td>Appenzeller</td>\n",
       "    </tr>\n",
       "  </tbody>\n",
       "</table>\n",
       "</div>"
      ],
      "text/plain": [
       "                            p2                        p2  \\\n",
       "1407        Labrador_retriever        Labrador_retriever   \n",
       "767   Chesapeake_bay_retriever  Chesapeake_bay_retriever   \n",
       "1683                Great_dane                Great_dane   \n",
       "227             English_setter            English_setter   \n",
       "775                      Koala                     Koala   \n",
       "1655                Eskimo_dog                Eskimo_dog   \n",
       "787         Labrador_retriever        Labrador_retriever   \n",
       "2038           Norwich_terrier           Norwich_terrier   \n",
       "923             French_bulldog            French_bulldog   \n",
       "388         Miniature_pinscher        Miniature_pinscher   \n",
       "\n",
       "                                  p3  \n",
       "1407                          Kelpie  \n",
       "767                         Doberman  \n",
       "1683          Curly-coated_retriever  \n",
       "227                   Cocker_spaniel  \n",
       "775                            Goose  \n",
       "1655                 Tibetan_mastiff  \n",
       "787                         Ice_bear  \n",
       "2038                 Norfolk_terrier  \n",
       "923   American_staffordshire_terrier  \n",
       "388                      Appenzeller  "
      ]
     },
     "execution_count": 132,
     "metadata": {},
     "output_type": "execute_result"
    }
   ],
   "source": [
    "images_clean[['p2', 'p2','p3']].sample(10)"
   ]
  },
  {
   "cell_type": "markdown",
   "id": "0ce7f887",
   "metadata": {},
   "source": [
    "### Underscore on some breed names in p1,p2,p3 of the image dataset\n",
    "#### Define \n",
    "Replace underscore with a blank space"
   ]
  },
  {
   "cell_type": "code",
   "execution_count": 133,
   "id": "3c7ec010",
   "metadata": {},
   "outputs": [],
   "source": [
    "images_clean['p1']=images_clean['p1'].str.replace('_', ' ')\n",
    "images_clean['p2']=images_clean['p2'].str.replace('_', ' ')\n",
    "images_clean['p3']=images_clean['p3'].str.replace('_', ' ')"
   ]
  },
  {
   "cell_type": "code",
   "execution_count": 134,
   "id": "3a9da303",
   "metadata": {},
   "outputs": [
    {
     "data": {
      "text/html": [
       "<div>\n",
       "<style scoped>\n",
       "    .dataframe tbody tr th:only-of-type {\n",
       "        vertical-align: middle;\n",
       "    }\n",
       "\n",
       "    .dataframe tbody tr th {\n",
       "        vertical-align: top;\n",
       "    }\n",
       "\n",
       "    .dataframe thead th {\n",
       "        text-align: right;\n",
       "    }\n",
       "</style>\n",
       "<table border=\"1\" class=\"dataframe\">\n",
       "  <thead>\n",
       "    <tr style=\"text-align: right;\">\n",
       "      <th></th>\n",
       "      <th>p1</th>\n",
       "      <th>p2</th>\n",
       "      <th>p3</th>\n",
       "    </tr>\n",
       "  </thead>\n",
       "  <tbody>\n",
       "    <tr>\n",
       "      <th>0</th>\n",
       "      <td>Welsh springer spaniel</td>\n",
       "      <td>Collie</td>\n",
       "      <td>Shetland sheepdog</td>\n",
       "    </tr>\n",
       "    <tr>\n",
       "      <th>1</th>\n",
       "      <td>Redbone</td>\n",
       "      <td>Miniature pinscher</td>\n",
       "      <td>Rhodesian ridgeback</td>\n",
       "    </tr>\n",
       "    <tr>\n",
       "      <th>2</th>\n",
       "      <td>German shepherd</td>\n",
       "      <td>Malinois</td>\n",
       "      <td>Bloodhound</td>\n",
       "    </tr>\n",
       "    <tr>\n",
       "      <th>3</th>\n",
       "      <td>Rhodesian ridgeback</td>\n",
       "      <td>Redbone</td>\n",
       "      <td>Miniature pinscher</td>\n",
       "    </tr>\n",
       "    <tr>\n",
       "      <th>4</th>\n",
       "      <td>Miniature pinscher</td>\n",
       "      <td>Rottweiler</td>\n",
       "      <td>Doberman</td>\n",
       "    </tr>\n",
       "    <tr>\n",
       "      <th>5</th>\n",
       "      <td>Bernese mountain dog</td>\n",
       "      <td>English springer</td>\n",
       "      <td>Greater swiss mountain dog</td>\n",
       "    </tr>\n",
       "    <tr>\n",
       "      <th>6</th>\n",
       "      <td>Box turtle</td>\n",
       "      <td>Mud turtle</td>\n",
       "      <td>Terrapin</td>\n",
       "    </tr>\n",
       "    <tr>\n",
       "      <th>7</th>\n",
       "      <td>Chow</td>\n",
       "      <td>Tibetan mastiff</td>\n",
       "      <td>Fur coat</td>\n",
       "    </tr>\n",
       "    <tr>\n",
       "      <th>8</th>\n",
       "      <td>Shopping cart</td>\n",
       "      <td>Shopping basket</td>\n",
       "      <td>Golden retriever</td>\n",
       "    </tr>\n",
       "    <tr>\n",
       "      <th>9</th>\n",
       "      <td>Miniature poodle</td>\n",
       "      <td>Komondor</td>\n",
       "      <td>Soft-coated wheaten terrier</td>\n",
       "    </tr>\n",
       "  </tbody>\n",
       "</table>\n",
       "</div>"
      ],
      "text/plain": [
       "                       p1                  p2                           p3\n",
       "0  Welsh springer spaniel              Collie            Shetland sheepdog\n",
       "1                 Redbone  Miniature pinscher          Rhodesian ridgeback\n",
       "2         German shepherd            Malinois                   Bloodhound\n",
       "3     Rhodesian ridgeback             Redbone           Miniature pinscher\n",
       "4      Miniature pinscher          Rottweiler                     Doberman\n",
       "5    Bernese mountain dog    English springer   Greater swiss mountain dog\n",
       "6              Box turtle          Mud turtle                     Terrapin\n",
       "7                    Chow     Tibetan mastiff                     Fur coat\n",
       "8           Shopping cart     Shopping basket             Golden retriever\n",
       "9        Miniature poodle            Komondor  Soft-coated wheaten terrier"
      ]
     },
     "execution_count": 134,
     "metadata": {},
     "output_type": "execute_result"
    }
   ],
   "source": [
    "images_clean[['p1','p2','p3']].head(10)"
   ]
  },
  {
   "cell_type": "markdown",
   "id": "1ea2dade",
   "metadata": {},
   "source": [
    "### Anchor tags on source links in archive dataset \n",
    "#### Define\n",
    "Remove anchor tags from source links in archive dataset"
   ]
  },
  {
   "cell_type": "code",
   "execution_count": 135,
   "id": "11429e11",
   "metadata": {},
   "outputs": [
    {
     "data": {
      "text/plain": [
       "0    http://twitter.com/download/iphone\" rel=\"nofol...\n",
       "1    http://twitter.com/download/iphone\" rel=\"nofol...\n",
       "2    http://twitter.com/download/iphone\" rel=\"nofol...\n",
       "3    http://twitter.com/download/iphone\" rel=\"nofol...\n",
       "4    http://twitter.com/download/iphone\" rel=\"nofol...\n",
       "Name: source, dtype: object"
      ]
     },
     "execution_count": 135,
     "metadata": {},
     "output_type": "execute_result"
    }
   ],
   "source": [
    "archive_clean['source']=archive_clean['source'].str.replace('<a href=\"', '')\n",
    "archive_clean['source']=archive_clean['source'].str.replace('</a>','')\n",
    "archive_clean.source.head()"
   ]
  },
  {
   "cell_type": "markdown",
   "id": "fdd5cc11",
   "metadata": {},
   "source": [
    "### Values above and below 10 in rating_denominator in archive dataset\n",
    "#### Define \n",
    "make all values in this column equal to 10"
   ]
  },
  {
   "cell_type": "code",
   "execution_count": 136,
   "id": "289c90b5",
   "metadata": {},
   "outputs": [],
   "source": [
    "archive_clean['rating_denominator']=archive_clean['rating_denominator'].apply(\n",
    "    lambda x: 10 if (x!=10) else x)"
   ]
  },
  {
   "cell_type": "code",
   "execution_count": 137,
   "id": "7a4400eb",
   "metadata": {},
   "outputs": [
    {
     "data": {
      "text/html": [
       "<div>\n",
       "<style scoped>\n",
       "    .dataframe tbody tr th:only-of-type {\n",
       "        vertical-align: middle;\n",
       "    }\n",
       "\n",
       "    .dataframe tbody tr th {\n",
       "        vertical-align: top;\n",
       "    }\n",
       "\n",
       "    .dataframe thead th {\n",
       "        text-align: right;\n",
       "    }\n",
       "</style>\n",
       "<table border=\"1\" class=\"dataframe\">\n",
       "  <thead>\n",
       "    <tr style=\"text-align: right;\">\n",
       "      <th></th>\n",
       "      <th>tweet_id</th>\n",
       "      <th>in_reply_to_status_id</th>\n",
       "      <th>in_reply_to_user_id</th>\n",
       "      <th>timestamp</th>\n",
       "      <th>source</th>\n",
       "      <th>text</th>\n",
       "      <th>retweeted_status_id</th>\n",
       "      <th>retweeted_status_user_id</th>\n",
       "      <th>retweeted_status_timestamp</th>\n",
       "      <th>expanded_urls</th>\n",
       "      <th>rating_numerator</th>\n",
       "      <th>rating_denominator</th>\n",
       "      <th>name</th>\n",
       "      <th>doggo</th>\n",
       "      <th>floofer</th>\n",
       "      <th>pupper</th>\n",
       "      <th>puppo</th>\n",
       "    </tr>\n",
       "  </thead>\n",
       "  <tbody>\n",
       "  </tbody>\n",
       "</table>\n",
       "</div>"
      ],
      "text/plain": [
       "Empty DataFrame\n",
       "Columns: [tweet_id, in_reply_to_status_id, in_reply_to_user_id, timestamp, source, text, retweeted_status_id, retweeted_status_user_id, retweeted_status_timestamp, expanded_urls, rating_numerator, rating_denominator, name, doggo, floofer, pupper, puppo]\n",
       "Index: []"
      ]
     },
     "execution_count": 137,
     "metadata": {},
     "output_type": "execute_result"
    }
   ],
   "source": [
    "#test\n",
    "archive_clean.query('rating_denominator !=10').head()"
   ]
  },
  {
   "cell_type": "markdown",
   "id": "a53c4cb3",
   "metadata": {},
   "source": [
    "### More than 1 url and duplicates in the same cell in expanded url column of the archive dataset\n",
    "#### Define \n",
    "\n",
    "split elements in each cell and pick only one link that has a twitter domain link and store to the expanded url column. Links with other domains are not useful or rather don't point to the tweet status. "
   ]
  },
  {
   "cell_type": "code",
   "execution_count": 138,
   "id": "a458e983",
   "metadata": {},
   "outputs": [],
   "source": [
    "new = archive_clean['expanded_urls'].str.split(\",\", n = 2, expand = True)\n",
    "\n",
    "archive_clean['expanded_urls']=new[0]\n",
    "#archive_clean['expanded_urls_1']=new[1]"
   ]
  },
  {
   "cell_type": "code",
   "execution_count": 139,
   "id": "7b8ed1df",
   "metadata": {},
   "outputs": [
    {
     "data": {
      "text/plain": [
       "0    https://twitter.com/dog_rates/status/892420643...\n",
       "1    https://twitter.com/dog_rates/status/892177421...\n",
       "2    https://twitter.com/dog_rates/status/891815181...\n",
       "3    https://twitter.com/dog_rates/status/891689557...\n",
       "4    https://twitter.com/dog_rates/status/891327558...\n",
       "Name: expanded_urls, dtype: object"
      ]
     },
     "execution_count": 139,
     "metadata": {},
     "output_type": "execute_result"
    }
   ],
   "source": [
    "archive_clean.expanded_urls.head()"
   ]
  },
  {
   "cell_type": "markdown",
   "id": "396a084a",
   "metadata": {},
   "source": [
    "### doggo,floofer, pupper and puppo are in separate columns in archive dataset\n",
    "\n",
    "#### Define \n",
    "Use melt to put these four categories in one column and drop the original individual columns."
   ]
  },
  {
   "cell_type": "code",
   "execution_count": 140,
   "id": "5d9d04c0",
   "metadata": {},
   "outputs": [],
   "source": [
    "archive_clean = pd.melt(archive_clean, id_vars=['tweet_id', 'in_reply_to_status_id', 'in_reply_to_user_id', 'timestamp',\n",
    "       'source', 'text', 'retweeted_status_id', 'retweeted_status_user_id',\n",
    "       'retweeted_status_timestamp', 'expanded_urls', 'rating_numerator',\n",
    "       'rating_denominator', 'name',],\n",
    "                           \n",
    "                           var_name='dog_group', value_name='dog_type')\n",
    "\n",
    "archive_clean=archive_clean.query('dog_type !=\"None\"')\n",
    "archive_clean.drop('dog_type', axis=1, inplace=True)"
   ]
  },
  {
   "cell_type": "code",
   "execution_count": 141,
   "id": "ec546104",
   "metadata": {},
   "outputs": [
    {
     "data": {
      "text/plain": [
       "6848     puppo\n",
       "6157    pupper\n",
       "6004    pupper\n",
       "6358    pupper\n",
       "6220    pupper\n",
       "6098    pupper\n",
       "7362     puppo\n",
       "5485    pupper\n",
       "747      doggo\n",
       "5412    pupper\n",
       "Name: dog_group, dtype: object"
      ]
     },
     "execution_count": 141,
     "metadata": {},
     "output_type": "execute_result"
    }
   ],
   "source": [
    "#test\n",
    "archive_clean['dog_group'].sample(10)"
   ]
  },
  {
   "cell_type": "markdown",
   "id": "c950e023",
   "metadata": {},
   "source": [
    "### Define \n",
    "\n",
    "Rename pupper and puppo to puppy , doggo to dog and floofer to dog. \n",
    "Accoording to slang dictionary floofer is another name for big dog especially if it is fluffy. Therefore, the dog group will have puppies and dogs. "
   ]
  },
  {
   "cell_type": "code",
   "execution_count": 142,
   "id": "a0835c38",
   "metadata": {},
   "outputs": [],
   "source": [
    "archive_clean['dog_group']=archive_clean['dog_group'].map(\n",
    "    {'pupper':'puppy','puppo':'puppy','doggo':'dog','floofer':'dog'})"
   ]
  },
  {
   "cell_type": "code",
   "execution_count": 143,
   "id": "efc7ac84",
   "metadata": {},
   "outputs": [
    {
     "data": {
      "text/plain": [
       "puppy    282\n",
       "dog      103\n",
       "Name: dog_group, dtype: int64"
      ]
     },
     "execution_count": 143,
     "metadata": {},
     "output_type": "execute_result"
    }
   ],
   "source": [
    "#test\n",
    "archive_clean['dog_group'].value_counts()"
   ]
  },
  {
   "cell_type": "markdown",
   "id": "cd65e5a0",
   "metadata": {},
   "source": [
    "### Data Merging \n",
    "Merge archive_clean with tweets_clean using a left join, tweets_clean being the left table. This is to avoid loosing valuable data in the tweets_clean table. Since we need only tweets with images, we do a left merge on the resulting dataset and images_clean; with images_clean as the left dataset."
   ]
  },
  {
   "cell_type": "code",
   "execution_count": 144,
   "id": "1bac74ab",
   "metadata": {},
   "outputs": [
    {
     "data": {
      "text/html": [
       "<div>\n",
       "<style scoped>\n",
       "    .dataframe tbody tr th:only-of-type {\n",
       "        vertical-align: middle;\n",
       "    }\n",
       "\n",
       "    .dataframe tbody tr th {\n",
       "        vertical-align: top;\n",
       "    }\n",
       "\n",
       "    .dataframe thead th {\n",
       "        text-align: right;\n",
       "    }\n",
       "</style>\n",
       "<table border=\"1\" class=\"dataframe\">\n",
       "  <thead>\n",
       "    <tr style=\"text-align: right;\">\n",
       "      <th></th>\n",
       "      <th>tweet_id</th>\n",
       "      <th>jpg_url</th>\n",
       "      <th>img_num</th>\n",
       "      <th>p1</th>\n",
       "      <th>p1_conf</th>\n",
       "      <th>p1_dog</th>\n",
       "      <th>p2</th>\n",
       "      <th>p2_conf</th>\n",
       "      <th>p2_dog</th>\n",
       "      <th>p3</th>\n",
       "      <th>...</th>\n",
       "      <th>source</th>\n",
       "      <th>text</th>\n",
       "      <th>retweeted_status_id</th>\n",
       "      <th>retweeted_status_user_id</th>\n",
       "      <th>retweeted_status_timestamp</th>\n",
       "      <th>expanded_urls</th>\n",
       "      <th>rating_numerator</th>\n",
       "      <th>rating_denominator</th>\n",
       "      <th>name</th>\n",
       "      <th>dog_group</th>\n",
       "    </tr>\n",
       "  </thead>\n",
       "  <tbody>\n",
       "    <tr>\n",
       "      <th>0</th>\n",
       "      <td>666020888022790149</td>\n",
       "      <td>https://pbs.twimg.com/media/CT4udn0WwAA0aMy.jpg</td>\n",
       "      <td>1</td>\n",
       "      <td>Welsh springer spaniel</td>\n",
       "      <td>0.465074</td>\n",
       "      <td>True</td>\n",
       "      <td>Collie</td>\n",
       "      <td>0.156665</td>\n",
       "      <td>True</td>\n",
       "      <td>Shetland sheepdog</td>\n",
       "      <td>...</td>\n",
       "      <td>NaN</td>\n",
       "      <td>NaN</td>\n",
       "      <td>NaN</td>\n",
       "      <td>NaN</td>\n",
       "      <td>NaN</td>\n",
       "      <td>NaN</td>\n",
       "      <td>NaN</td>\n",
       "      <td>NaN</td>\n",
       "      <td>NaN</td>\n",
       "      <td>NaN</td>\n",
       "    </tr>\n",
       "    <tr>\n",
       "      <th>1</th>\n",
       "      <td>666029285002620928</td>\n",
       "      <td>https://pbs.twimg.com/media/CT42GRgUYAA5iDo.jpg</td>\n",
       "      <td>1</td>\n",
       "      <td>Redbone</td>\n",
       "      <td>0.506826</td>\n",
       "      <td>True</td>\n",
       "      <td>Miniature pinscher</td>\n",
       "      <td>0.074192</td>\n",
       "      <td>True</td>\n",
       "      <td>Rhodesian ridgeback</td>\n",
       "      <td>...</td>\n",
       "      <td>NaN</td>\n",
       "      <td>NaN</td>\n",
       "      <td>NaN</td>\n",
       "      <td>NaN</td>\n",
       "      <td>NaN</td>\n",
       "      <td>NaN</td>\n",
       "      <td>NaN</td>\n",
       "      <td>NaN</td>\n",
       "      <td>NaN</td>\n",
       "      <td>NaN</td>\n",
       "    </tr>\n",
       "    <tr>\n",
       "      <th>2</th>\n",
       "      <td>666033412701032449</td>\n",
       "      <td>https://pbs.twimg.com/media/CT4521TWwAEvMyu.jpg</td>\n",
       "      <td>1</td>\n",
       "      <td>German shepherd</td>\n",
       "      <td>0.596461</td>\n",
       "      <td>True</td>\n",
       "      <td>Malinois</td>\n",
       "      <td>0.138584</td>\n",
       "      <td>True</td>\n",
       "      <td>Bloodhound</td>\n",
       "      <td>...</td>\n",
       "      <td>NaN</td>\n",
       "      <td>NaN</td>\n",
       "      <td>NaN</td>\n",
       "      <td>NaN</td>\n",
       "      <td>NaN</td>\n",
       "      <td>NaN</td>\n",
       "      <td>NaN</td>\n",
       "      <td>NaN</td>\n",
       "      <td>NaN</td>\n",
       "      <td>NaN</td>\n",
       "    </tr>\n",
       "    <tr>\n",
       "      <th>3</th>\n",
       "      <td>666044226329800704</td>\n",
       "      <td>https://pbs.twimg.com/media/CT5Dr8HUEAA-lEu.jpg</td>\n",
       "      <td>1</td>\n",
       "      <td>Rhodesian ridgeback</td>\n",
       "      <td>0.408143</td>\n",
       "      <td>True</td>\n",
       "      <td>Redbone</td>\n",
       "      <td>0.360687</td>\n",
       "      <td>True</td>\n",
       "      <td>Miniature pinscher</td>\n",
       "      <td>...</td>\n",
       "      <td>NaN</td>\n",
       "      <td>NaN</td>\n",
       "      <td>NaN</td>\n",
       "      <td>NaN</td>\n",
       "      <td>NaN</td>\n",
       "      <td>NaN</td>\n",
       "      <td>NaN</td>\n",
       "      <td>NaN</td>\n",
       "      <td>NaN</td>\n",
       "      <td>NaN</td>\n",
       "    </tr>\n",
       "    <tr>\n",
       "      <th>4</th>\n",
       "      <td>666049248165822465</td>\n",
       "      <td>https://pbs.twimg.com/media/CT5IQmsXIAAKY4A.jpg</td>\n",
       "      <td>1</td>\n",
       "      <td>Miniature pinscher</td>\n",
       "      <td>0.560311</td>\n",
       "      <td>True</td>\n",
       "      <td>Rottweiler</td>\n",
       "      <td>0.243682</td>\n",
       "      <td>True</td>\n",
       "      <td>Doberman</td>\n",
       "      <td>...</td>\n",
       "      <td>NaN</td>\n",
       "      <td>NaN</td>\n",
       "      <td>NaN</td>\n",
       "      <td>NaN</td>\n",
       "      <td>NaN</td>\n",
       "      <td>NaN</td>\n",
       "      <td>NaN</td>\n",
       "      <td>NaN</td>\n",
       "      <td>NaN</td>\n",
       "      <td>NaN</td>\n",
       "    </tr>\n",
       "  </tbody>\n",
       "</table>\n",
       "<p>5 rows × 27 columns</p>\n",
       "</div>"
      ],
      "text/plain": [
       "             tweet_id                                          jpg_url  \\\n",
       "0  666020888022790149  https://pbs.twimg.com/media/CT4udn0WwAA0aMy.jpg   \n",
       "1  666029285002620928  https://pbs.twimg.com/media/CT42GRgUYAA5iDo.jpg   \n",
       "2  666033412701032449  https://pbs.twimg.com/media/CT4521TWwAEvMyu.jpg   \n",
       "3  666044226329800704  https://pbs.twimg.com/media/CT5Dr8HUEAA-lEu.jpg   \n",
       "4  666049248165822465  https://pbs.twimg.com/media/CT5IQmsXIAAKY4A.jpg   \n",
       "\n",
       "   img_num                      p1   p1_conf  p1_dog                  p2  \\\n",
       "0        1  Welsh springer spaniel  0.465074    True              Collie   \n",
       "1        1                 Redbone  0.506826    True  Miniature pinscher   \n",
       "2        1         German shepherd  0.596461    True            Malinois   \n",
       "3        1     Rhodesian ridgeback  0.408143    True             Redbone   \n",
       "4        1      Miniature pinscher  0.560311    True          Rottweiler   \n",
       "\n",
       "    p2_conf  p2_dog                   p3  ...  source  text  \\\n",
       "0  0.156665    True    Shetland sheepdog  ...     NaN   NaN   \n",
       "1  0.074192    True  Rhodesian ridgeback  ...     NaN   NaN   \n",
       "2  0.138584    True           Bloodhound  ...     NaN   NaN   \n",
       "3  0.360687    True   Miniature pinscher  ...     NaN   NaN   \n",
       "4  0.243682    True             Doberman  ...     NaN   NaN   \n",
       "\n",
       "   retweeted_status_id  retweeted_status_user_id  retweeted_status_timestamp  \\\n",
       "0                  NaN                       NaN                         NaN   \n",
       "1                  NaN                       NaN                         NaN   \n",
       "2                  NaN                       NaN                         NaN   \n",
       "3                  NaN                       NaN                         NaN   \n",
       "4                  NaN                       NaN                         NaN   \n",
       "\n",
       "   expanded_urls rating_numerator rating_denominator name  dog_group  \n",
       "0            NaN              NaN                NaN  NaN        NaN  \n",
       "1            NaN              NaN                NaN  NaN        NaN  \n",
       "2            NaN              NaN                NaN  NaN        NaN  \n",
       "3            NaN              NaN                NaN  NaN        NaN  \n",
       "4            NaN              NaN                NaN  NaN        NaN  \n",
       "\n",
       "[5 rows x 27 columns]"
      ]
     },
     "execution_count": 144,
     "metadata": {},
     "output_type": "execute_result"
    }
   ],
   "source": [
    "twitter_archive_master=pd.merge(tweets_clean,archive_clean, left_on='tweet_id', right_on='tweet_id', how='left')\n",
    "twitter_archive_master=pd.merge(images_clean, twitter_archive_master, left_on='tweet_id', right_on='tweet_id', how='left')\n",
    "archive_clean.to_csv('archive_clean.csv', index=False)\n",
    "images_clean.to_csv('images_clean.csv', index=False)\n",
    "twitter_archive_master.to_csv('twitter_archive_master.csv', index=False)\n",
    "twitter_archive_master.head()"
   ]
  },
  {
   "cell_type": "code",
   "execution_count": 121,
   "id": "db74f89a",
   "metadata": {},
   "outputs": [
    {
     "data": {
      "text/plain": [
       "(2075, 12)"
      ]
     },
     "execution_count": 121,
     "metadata": {},
     "output_type": "execute_result"
    }
   ],
   "source": [
    "#check shape\n",
    "images_clean.shape"
   ]
  },
  {
   "cell_type": "code",
   "execution_count": 145,
   "id": "4a8e863d",
   "metadata": {},
   "outputs": [
    {
     "name": "stdout",
     "output_type": "stream",
     "text": [
      "<class 'pandas.core.frame.DataFrame'>\n",
      "Int64Index: 2087 entries, 0 to 2086\n",
      "Data columns (total 27 columns):\n",
      " #   Column                      Non-Null Count  Dtype  \n",
      "---  ------                      --------------  -----  \n",
      " 0   tweet_id                    2087 non-null   int64  \n",
      " 1   jpg_url                     2087 non-null   object \n",
      " 2   img_num                     2087 non-null   int64  \n",
      " 3   p1                          2087 non-null   object \n",
      " 4   p1_conf                     2087 non-null   float64\n",
      " 5   p1_dog                      2087 non-null   bool   \n",
      " 6   p2                          2087 non-null   object \n",
      " 7   p2_conf                     2087 non-null   float64\n",
      " 8   p2_dog                      2087 non-null   bool   \n",
      " 9   p3                          2087 non-null   object \n",
      " 10  p3_conf                     2087 non-null   float64\n",
      " 11  p3_dog                      2087 non-null   bool   \n",
      " 12  favorite_count              2064 non-null   float64\n",
      " 13  retweet_count               2064 non-null   float64\n",
      " 14  in_reply_to_status_id       0 non-null      float64\n",
      " 15  in_reply_to_user_id         0 non-null      float64\n",
      " 16  timestamp                   327 non-null    object \n",
      " 17  source                      327 non-null    object \n",
      " 18  text                        327 non-null    object \n",
      " 19  retweeted_status_id         15 non-null     float64\n",
      " 20  retweeted_status_user_id    15 non-null     float64\n",
      " 21  retweeted_status_timestamp  15 non-null     object \n",
      " 22  expanded_urls               327 non-null    object \n",
      " 23  rating_numerator            327 non-null    float64\n",
      " 24  rating_denominator          327 non-null    float64\n",
      " 25  name                        327 non-null    object \n",
      " 26  dog_group                   327 non-null    object \n",
      "dtypes: bool(3), float64(11), int64(2), object(11)\n",
      "memory usage: 324.1+ KB\n"
     ]
    }
   ],
   "source": [
    "twitter_archive_master.info()"
   ]
  },
  {
   "cell_type": "markdown",
   "id": "b3c84663",
   "metadata": {},
   "source": [
    "## Analyzing and Visualizing Data"
   ]
  },
  {
   "cell_type": "code",
   "execution_count": 146,
   "id": "8b6bd169",
   "metadata": {
    "scrolled": true
   },
   "outputs": [
    {
     "name": "stdout",
     "output_type": "stream",
     "text": [
      "The correlation between retweet_count and favorite_count is 0.8594980844615059\n"
     ]
    }
   ],
   "source": [
    "# pearsons test of correlation \n",
    "dt=twitter_archive_master[['retweet_count','favorite_count']].dropna()\n",
    "cor, _=pearsonr(dt.retweet_count,dt.favorite_count)\n",
    "print(f'The correlation between retweet_count and favorite_count is {cor}')"
   ]
  },
  {
   "cell_type": "code",
   "execution_count": 147,
   "id": "48ff54a8",
   "metadata": {},
   "outputs": [
    {
     "data": {
      "text/plain": [
       "count    327.000000\n",
       "mean      11.146789\n",
       "std        1.976048\n",
       "min        3.000000\n",
       "25%       10.000000\n",
       "50%       11.000000\n",
       "75%       12.000000\n",
       "max       27.000000\n",
       "Name: rating_numerator, dtype: float64"
      ]
     },
     "execution_count": 147,
     "metadata": {},
     "output_type": "execute_result"
    }
   ],
   "source": [
    "twitter_archive_master['rating_numerator'].describe()"
   ]
  },
  {
   "cell_type": "code",
   "execution_count": 148,
   "id": "b944edd6",
   "metadata": {},
   "outputs": [
    {
     "data": {
      "text/plain": [
       "count      2064.000000\n",
       "mean       7429.984012\n",
       "std       11237.394077\n",
       "min           0.000000\n",
       "25%        1407.000000\n",
       "50%        3285.000000\n",
       "75%        9234.250000\n",
       "max      144175.000000\n",
       "Name: favorite_count, dtype: float64"
      ]
     },
     "execution_count": 148,
     "metadata": {},
     "output_type": "execute_result"
    }
   ],
   "source": [
    "twitter_archive_master.favorite_count.describe()"
   ]
  },
  {
   "cell_type": "code",
   "execution_count": 149,
   "id": "fee81084",
   "metadata": {},
   "outputs": [
    {
     "data": {
      "text/plain": [
       "count     2064.000000\n",
       "mean      2366.862888\n",
       "std       4132.442642\n",
       "min         11.000000\n",
       "25%        500.750000\n",
       "50%       1116.000000\n",
       "75%       2712.000000\n",
       "max      70294.000000\n",
       "Name: retweet_count, dtype: float64"
      ]
     },
     "execution_count": 149,
     "metadata": {},
     "output_type": "execute_result"
    }
   ],
   "source": [
    "twitter_archive_master.retweet_count.describe()"
   ]
  },
  {
   "cell_type": "code",
   "execution_count": 150,
   "id": "23729e0c",
   "metadata": {},
   "outputs": [
    {
     "name": "stdout",
     "output_type": "stream",
     "text": [
      "           retweet_count  favorite_count\n",
      "dog_group                               \n",
      "dog          6145.047059    15734.976471\n",
      "puppy        2480.508264     7533.396694\n"
     ]
    },
    {
     "name": "stderr",
     "output_type": "stream",
     "text": [
      "C:\\Users\\RONNY\\AppData\\Local\\Temp\\ipykernel_7956\\5128617.py:1: FutureWarning: Indexing with multiple keys (implicitly converted to a tuple of keys) will be deprecated, use a list instead.\n",
      "  grps=twitter_archive_master.groupby('dog_group')['retweet_count','favorite_count'].mean()\n"
     ]
    }
   ],
   "source": [
    "grps=twitter_archive_master.groupby('dog_group')['retweet_count','favorite_count'].mean()\n",
    "print(grps)"
   ]
  },
  {
   "cell_type": "markdown",
   "id": "248697a4",
   "metadata": {},
   "source": [
    "### Insights \n",
    "\n",
    "1. There is a strong positive correlation between favorite count and retweet count. \n",
    "2. Mean rating is 11.2, half of the ratings fall below 11. The lowest rating is 3.\n",
    "3. Favorite counts range from 0 to 144175 with three-quater falling below 9234. Half of the        tweets had at most 3285 favorite counts. \n",
    "5. Retweet counts for the sample ranged from 1 to 70294. The average retweet count for the          sample was 2366. "
   ]
  },
  {
   "cell_type": "markdown",
   "id": "c613f747",
   "metadata": {},
   "source": [
    "#### Visualization \n",
    "\n",
    "The graph indicate a strong correlation between retweet counts and favorite counts. This implies as the higher the number of retweets the higher the number of love reactions and vice versa is true. "
   ]
  },
  {
   "cell_type": "code",
   "execution_count": 151,
   "id": "5853b265",
   "metadata": {},
   "outputs": [
    {
     "data": {
      "text/plain": [
       "<Figure size 864x432 with 0 Axes>"
      ]
     },
     "metadata": {},
     "output_type": "display_data"
    },
    {
     "data": {
      "image/png": "[encoded data removed]",
      "text/plain": [
       "<Figure size 432x288 with 1 Axes>"
      ]
     },
     "metadata": {
      "needs_background": "light"
     },
     "output_type": "display_data"
    }
   ],
   "source": [
    "plt.figure(figsize=(12,6));\n",
    "twitter_archive_master.plot(y='retweet_count', x='favorite_count', kind='scatter');\n",
    "plt.xlabel('Favorite Count', size=10)\n",
    "plt.ylabel('Retweet Count', size=10)\n",
    "plt.title('Favorite Count vs Retweet Count', size=15)\n",
    "plt.show();"
   ]
  },
  {
   "cell_type": "code",
   "execution_count": 152,
   "id": "b6f6ee60",
   "metadata": {},
   "outputs": [
    {
     "data": {
      "image/png": "[encoded data removed]",
      "text/plain": [
       "<Figure size 1296x576 with 1 Axes>"
      ]
     },
     "metadata": {},
     "output_type": "display_data"
    }
   ],
   "source": [
    "dog_grp=twitter_archive_master.dog_group.value_counts()\n",
    "plt.gcf().set_size_inches(18, 8)\n",
    "explode=[0.2,0]\n",
    "dog_grp.plot(kind='pie',autopct='%.0f%%',textprops={'size': 'large'},shadow=True, labels=dog_grp.index,ylabel='', explode=explode)\n",
    "plt.title('Dog Groups', size=18);\n",
    "plt.show()"
   ]
  }
 ],
 "metadata": {
  "kernelspec": {
   "display_name": "Python 3 (ipykernel)",
   "language": "python",
   "name": "python3"
  },
  "language_info": {
   "codemirror_mode": {
    "name": "ipython",
    "version": 3
   },
   "file_extension": ".py",
   "mimetype": "text/x-python",
   "name": "python",
   "nbconvert_exporter": "python",
   "pygments_lexer": "ipython3",
   "version": "3.9.5"
  }
 },
 "nbformat": 4,
 "nbformat_minor": 5
}
